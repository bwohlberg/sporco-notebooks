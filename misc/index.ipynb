{
 "cells": [
  {
   "cell_type": "markdown",
   "id": "verified-flooring",
   "metadata": {},
   "source": [
    "# Miscellaneous\n",
    "\n",
    "-   [Construct a solver for an ADMM Consensus problem](admmcnsns.ipynb)\n",
    "-   [Solve a synthetic Robust PCA problem](rpca_denoise.ipynb)\n",
    "-   [Video background/foreground separation via Robust\n",
    "    PCA](rpca_video.ipynb)\n",
    "-   [Use ℓ1-spline fitting for removing salt & pepper noise from a\n",
    "    greyscale image](spline.ipynb)\n",
    "-   [Compare linear regression methods](regression.ipynb)\n",
    "-   [Plotting function usage demonstration](plotting.ipynb)"
   ]
  }
 ],
 "metadata": {},
 "nbformat": 4,
 "nbformat_minor": 5
}
