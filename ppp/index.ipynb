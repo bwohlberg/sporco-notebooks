{
 "cells": [
  {
   "cell_type": "markdown",
   "id": "color-binary",
   "metadata": {},
   "source": [
    "# Plug and Play Priors\n",
    "\n",
    "-   [Plug and Play Priors ADMM solution of a demosaicing\n",
    "    problem](ppp_admm_dmsc.ipynb)\n",
    "-   [Plug and Play Priors ADMM Consensus solution of a demosaicing\n",
    "    problem](ppp_admmcns_dmsc.ipynb)\n",
    "-   [Plug and Play Priors PGM solution of a demosaicing\n",
    "    problem](ppp_pgm_dmsc.ipynb)"
   ]
  }
 ],
 "metadata": {},
 "nbformat": 4,
 "nbformat_minor": 5
}
