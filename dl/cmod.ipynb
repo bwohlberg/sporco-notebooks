{
 "cells": [
  {
   "cell_type": "markdown",
   "metadata": {},
   "source": [
    "Constained MOD\n",
    "==============\n",
    "\n",
    "This example demonstrates the use of [admm.cmod.CnstrMOD](http://sporco.rtfd.org/en/latest/modules/sporco.admm.cmod.html#sporco.admm.cmod.CnstrMOD) for computing a dictionary update via a constrained variant of the method of optimal directions [[20]](http://sporco.rtfd.org/en/latest/zreferences.html#id20). This problem is mainly useful as a component within dictionary learning, but its use is demonstrated here since a user may wish to construct such objects as part of a custom dictionary learning algorithm, using [dictlrn.DictLearn](http://sporco.rtfd.org/en/latest/modules/sporco.dictlrn.dictlrn.html#sporco.dictlrn.dictlrn.DictLearn)."
   ]
  },
  {
   "cell_type": "code",
   "execution_count": 1,
   "metadata": {
    "collapsed": false
   },
   "outputs": [],
   "source": [
    "from __future__ import print_function\n",
    "from builtins import input\n",
    "\n",
    "import numpy as np\n",
    "\n",
    "from sporco.admm import bpdn\n",
    "from sporco.admm import cmod\n",
    "from sporco import util\n",
    "from sporco import array\n",
    "from sporco import plot\n",
    "plot.config_notebook_plotting()"
   ]
  },
  {
   "cell_type": "markdown",
   "metadata": {},
   "source": [
    "Load training images."
   ]
  },
  {
   "cell_type": "code",
   "execution_count": 2,
   "metadata": {
    "collapsed": false
   },
   "outputs": [],
   "source": [
    "exim = util.ExampleImages(scaled=True, zoom=0.25, gray=True)\n",
    "S1 = exim.image('barbara.png', idxexp=np.s_[10:522, 100:612])\n",
    "S2 = exim.image('kodim23.png', idxexp=np.s_[:, 60:572])\n",
    "S3 = exim.image('monarch.png', idxexp=np.s_[:, 160:672])\n",
    "S4 = exim.image('sail.png', idxexp=np.s_[:, 210:722])\n",
    "S5 = exim.image('tulips.png', idxexp=np.s_[:, 30:542])"
   ]
  },
  {
   "cell_type": "markdown",
   "metadata": {},
   "source": [
    "Extract all 8x8 image blocks, reshape, and subtract block means."
   ]
  },
  {
   "cell_type": "code",
   "execution_count": 3,
   "metadata": {
    "collapsed": false
   },
   "outputs": [],
   "source": [
    "S = array.extract_blocks((S1, S2, S3, S4, S5), (8, 8))\n",
    "S = np.reshape(S, (np.prod(S.shape[0:2]), S.shape[2]))\n",
    "S -= np.mean(S, axis=0)"
   ]
  },
  {
   "cell_type": "markdown",
   "metadata": {},
   "source": [
    "Load initial dictionary."
   ]
  },
  {
   "cell_type": "code",
   "execution_count": 4,
   "metadata": {
    "collapsed": false
   },
   "outputs": [],
   "source": [
    "D0 = util.convdicts()['G:8x8x64']\n",
    "D0 = np.reshape(D0, (np.prod(D0.shape[0:2]), D0.shape[2]))"
   ]
  },
  {
   "cell_type": "markdown",
   "metadata": {},
   "source": [
    "Compute sparse representation on current dictionary."
   ]
  },
  {
   "cell_type": "code",
   "execution_count": 5,
   "metadata": {
    "collapsed": false
   },
   "outputs": [
    {
     "name": "stdout",
     "output_type": "stream",
     "text": [
      "Itn   Fnc       DFid      Regℓ1     r         s         ρ       \n",
      "----------------------------------------------------------------\n"
     ]
    },
    {
     "name": "stdout",
     "output_type": "stream",
     "text": [
      "   0  2.68e+04  2.07e+04  6.15e+04  3.57e-01  2.33e+00  6.00e+00\n"
     ]
    },
    {
     "name": "stdout",
     "output_type": "stream",
     "text": [
      "   1  2.48e+04  1.74e+04  7.39e+04  1.49e-01  1.02e+00  6.00e+00\n"
     ]
    },
    {
     "name": "stdout",
     "output_type": "stream",
     "text": [
      "   2  2.40e+04  1.62e+04  7.80e+04  8.52e-02  6.64e-01  6.00e+00\n",
      "   3  2.35e+04  1.54e+04  8.06e+04  6.04e-02  5.31e-01  6.00e+00\n"
     ]
    },
    {
     "name": "stdout",
     "output_type": "stream",
     "text": [
      "   4  2.32e+04  1.50e+04  8.21e+04  4.53e-02  4.28e-01  6.00e+00\n",
      "   5  2.30e+04  1.46e+04  8.32e+04  3.59e-02  3.68e-01  6.00e+00\n"
     ]
    },
    {
     "name": "stdout",
     "output_type": "stream",
     "text": [
      "   6  2.28e+04  1.44e+04  8.40e+04  2.92e-02  3.17e-01  6.00e+00\n",
      "   7  2.27e+04  1.42e+04  8.46e+04  2.45e-02  2.81e-01  6.00e+00\n"
     ]
    },
    {
     "name": "stdout",
     "output_type": "stream",
     "text": [
      "   8  2.26e+04  1.41e+04  8.51e+04  2.08e-02  2.50e-01  6.00e+00\n",
      "   9  2.25e+04  1.40e+04  8.55e+04  1.80e-02  2.26e-01  6.00e+00\n"
     ]
    },
    {
     "name": "stdout",
     "output_type": "stream",
     "text": [
      "  10  2.23e+04  1.35e+04  8.74e+04  6.77e-02  1.82e-01  1.20e+00\n",
      "  11  2.22e+04  1.34e+04  8.81e+04  5.10e-02  1.30e-01  1.20e+00\n"
     ]
    },
    {
     "name": "stdout",
     "output_type": "stream",
     "text": [
      "  12  2.21e+04  1.33e+04  8.81e+04  3.72e-02  9.44e-02  1.20e+00\n",
      "  13  2.21e+04  1.33e+04  8.81e+04  2.77e-02  7.19e-02  1.20e+00\n"
     ]
    },
    {
     "name": "stdout",
     "output_type": "stream",
     "text": [
      "  14  2.21e+04  1.32e+04  8.83e+04  2.11e-02  5.61e-02  1.20e+00\n",
      "  15  2.21e+04  1.32e+04  8.84e+04  1.65e-02  4.48e-02  1.20e+00\n"
     ]
    },
    {
     "name": "stdout",
     "output_type": "stream",
     "text": [
      "  16  2.21e+04  1.32e+04  8.85e+04  1.30e-02  3.64e-02  1.20e+00\n",
      "  17  2.20e+04  1.32e+04  8.85e+04  1.05e-02  3.00e-02  1.20e+00\n"
     ]
    },
    {
     "name": "stdout",
     "output_type": "stream",
     "text": [
      "  18  2.20e+04  1.32e+04  8.86e+04  8.55e-03  2.51e-02  1.20e+00\n"
     ]
    },
    {
     "name": "stdout",
     "output_type": "stream",
     "text": [
      "  19  2.20e+04  1.32e+04  8.86e+04  7.07e-03  2.13e-02  1.20e+00\n"
     ]
    },
    {
     "name": "stdout",
     "output_type": "stream",
     "text": [
      "  20  2.20e+04  1.32e+04  8.87e+04  1.36e-02  1.74e-02  4.89e-01\n",
      "  21  2.20e+04  1.32e+04  8.88e+04  1.14e-02  1.34e-02  4.89e-01\n"
     ]
    },
    {
     "name": "stdout",
     "output_type": "stream",
     "text": [
      "  22  2.20e+04  1.31e+04  8.88e+04  9.16e-03  1.00e-02  4.89e-01\n"
     ]
    },
    {
     "name": "stdout",
     "output_type": "stream",
     "text": [
      "  23  2.20e+04  1.31e+04  8.89e+04  7.23e-03  7.61e-03  4.89e-01\n"
     ]
    },
    {
     "name": "stdout",
     "output_type": "stream",
     "text": [
      "  24  2.20e+04  1.31e+04  8.89e+04  5.65e-03  5.88e-03  4.89e-01\n"
     ]
    },
    {
     "name": "stdout",
     "output_type": "stream",
     "text": [
      "  25  2.20e+04  1.31e+04  8.89e+04  4.42e-03  4.61e-03  4.89e-01\n"
     ]
    },
    {
     "name": "stdout",
     "output_type": "stream",
     "text": [
      "  26  2.20e+04  1.31e+04  8.89e+04  3.48e-03  3.66e-03  4.89e-01\n"
     ]
    },
    {
     "name": "stdout",
     "output_type": "stream",
     "text": [
      "  27  2.20e+04  1.31e+04  8.89e+04  2.75e-03  2.94e-03  4.89e-01\n"
     ]
    },
    {
     "name": "stdout",
     "output_type": "stream",
     "text": [
      "  28  2.20e+04  1.31e+04  8.89e+04  2.20e-03  2.38e-03  4.89e-01\n"
     ]
    },
    {
     "name": "stdout",
     "output_type": "stream",
     "text": [
      "  29  2.20e+04  1.31e+04  8.89e+04  1.76e-03  1.95e-03  4.89e-01\n"
     ]
    },
    {
     "name": "stdout",
     "output_type": "stream",
     "text": [
      "  30  2.20e+04  1.31e+04  8.89e+04  1.95e-03  1.59e-03  3.29e-01\n"
     ]
    },
    {
     "name": "stdout",
     "output_type": "stream",
     "text": [
      "  31  2.20e+04  1.31e+04  8.89e+04  1.64e-03  1.26e-03  3.29e-01\n"
     ]
    },
    {
     "name": "stdout",
     "output_type": "stream",
     "text": [
      "  32  2.20e+04  1.31e+04  8.89e+04  1.36e-03  9.99e-04  3.29e-01\n"
     ]
    },
    {
     "name": "stdout",
     "output_type": "stream",
     "text": [
      "  33  2.20e+04  1.31e+04  8.89e+04  1.11e-03  7.99e-04  3.29e-01\n"
     ]
    },
    {
     "name": "stdout",
     "output_type": "stream",
     "text": [
      "  34  2.20e+04  1.31e+04  8.89e+04  9.05e-04  6.45e-04  3.29e-01\n",
      "----------------------------------------------------------------\n"
     ]
    }
   ],
   "source": [
    "lmbda = 0.1\n",
    "opt = bpdn.BPDN.Options({'Verbose': True, 'MaxMainIter': 200,\n",
    "                         'RelStopTol': 1e-3})\n",
    "b = bpdn.BPDN(D0, S, lmbda, opt)\n",
    "X = b.solve()"
   ]
  },
  {
   "cell_type": "markdown",
   "metadata": {},
   "source": [
    "Update dictionary for training image set."
   ]
  },
  {
   "cell_type": "code",
   "execution_count": 6,
   "metadata": {
    "collapsed": false
   },
   "outputs": [
    {
     "name": "stdout",
     "output_type": "stream",
     "text": [
      "Itn   DFid      Cnstr     r         s         ρ       \n",
      "------------------------------------------------------\n",
      "   0  1.13e+04  6.86e-07  4.56e-01  2.38e+00  4.00e+02\n",
      "   1  1.12e+04  7.37e-07  2.08e-01  2.09e-01  4.00e+02\n",
      "   2  1.12e+04  7.79e-07  1.01e-01  7.24e-02  4.00e+02\n",
      "   3  1.12e+04  7.73e-07  4.97e-02  3.14e-02  4.00e+02\n",
      "   4  1.12e+04  7.00e-07  2.72e-02  1.44e-02  4.00e+02\n",
      "   5  1.12e+04  6.73e-07  1.53e-02  8.43e-03  4.00e+02\n",
      "   6  1.12e+04  7.52e-07  8.87e-03  4.74e-03  4.00e+02\n",
      "   7  1.12e+04  7.31e-07  5.22e-03  3.04e-03  4.00e+02\n",
      "   8  1.12e+04  8.13e-07  3.12e-03  1.91e-03  4.00e+02\n",
      "   9  1.12e+04  7.16e-07  1.88e-03  1.29e-03  4.00e+02\n",
      "  10  1.12e+04  7.56e-07  1.15e-03  8.55e-04  4.00e+02\n",
      "  11  1.12e+04  7.63e-07  7.08e-04  5.95e-04  4.00e+02\n",
      "------------------------------------------------------\n",
      "CMOD solve time: 0.11s\n"
     ]
    }
   ],
   "source": [
    "opt = cmod.CnstrMOD.Options({'Verbose': True, 'MaxMainIter': 100,\n",
    "                             'RelStopTol': 1e-3, 'rho': 4e2})\n",
    "c = cmod.CnstrMOD(X, S, None, opt)\n",
    "D1 = c.solve()\n",
    "print(\"CMOD solve time: %.2fs\" % c.timer.elapsed('solve'))"
   ]
  },
  {
   "cell_type": "markdown",
   "metadata": {},
   "source": [
    "Display initial and final dictionaries."
   ]
  },
  {
   "cell_type": "code",
   "execution_count": 7,
   "metadata": {
    "collapsed": false
   },
   "outputs": [
    {
     "data": {
      "image/png": "[encoded data removed]",
      "text/plain": [
       "<Figure size 1008x504 with 2 Axes>"
      ]
     },
     "metadata": {
      "needs_background": "light"
     },
     "output_type": "display_data"
    }
   ],
   "source": [
    "D0 = D0.reshape((8, 8, D0.shape[-1]))\n",
    "D1 = D1.reshape((8, 8, D1.shape[-1]))\n",
    "fig = plot.figure(figsize=(14, 7))\n",
    "plot.subplot(1, 2, 1)\n",
    "plot.imview(util.tiledict(D0), title='D0', fig=fig)\n",
    "plot.subplot(1, 2, 2)\n",
    "plot.imview(util.tiledict(D1), title='D1', fig=fig)\n",
    "fig.show()"
   ]
  },
  {
   "cell_type": "markdown",
   "metadata": {},
   "source": [
    "Get iterations statistics from CMOD solver object and plot functional value, ADMM primary and dual residuals, and automatically adjusted ADMM penalty parameter against the iteration number."
   ]
  },
  {
   "cell_type": "code",
   "execution_count": 8,
   "metadata": {
    "collapsed": false
   },
   "outputs": [
    {
     "data": {
      "image/png": "[encoded data removed]",
      "text/plain": [
       "<Figure size 1440x360 with 3 Axes>"
      ]
     },
     "metadata": {
      "needs_background": "light"
     },
     "output_type": "display_data"
    }
   ],
   "source": [
    "its = c.getitstat()\n",
    "fig = plot.figure(figsize=(20, 5))\n",
    "plot.subplot(1, 3, 1)\n",
    "plot.plot(its.DFid, xlbl='Iterations', ylbl='Functional', fig=fig)\n",
    "plot.subplot(1, 3, 2)\n",
    "plot.plot(np.vstack((its.PrimalRsdl, its.DualRsdl)).T,\n",
    "          ptyp='semilogy', xlbl='Iterations', ylbl='Residual',\n",
    "          lgnd=['Primal', 'Dual'], fig=fig)\n",
    "plot.subplot(1, 3, 3)\n",
    "plot.plot(its.Rho, xlbl='Iterations', ylbl='Penalty Parameter', fig=fig)\n",
    "fig.show()"
   ]
  }
 ],
 "metadata": {
  "language_info": {
   "codemirror_mode": {
    "name": "ipython",
    "version": 3
   },
   "file_extension": ".py",
   "mimetype": "text/x-python",
   "name": "python",
   "nbconvert_exporter": "python",
   "pygments_lexer": "ipython3",
   "version": "3.7.6"
  }
 },
 "nbformat": 4,
 "nbformat_minor": 4
}
