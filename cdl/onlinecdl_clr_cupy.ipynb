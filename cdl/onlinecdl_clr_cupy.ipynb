{
 "cells": [
  {
   "cell_type": "markdown",
   "metadata": {},
   "source": [
    "Online Convolutional Dictionary Learning (CuPy Version)\n",
    "=======================================================\n",
    "\n",
    "This example demonstrates the use of [onlinecdl.OnlineConvBPDNDictLearn](http://sporco.rtfd.org/en/latest/modules/sporco.dictlrn.onlinecdl.html#sporco.dictlrn.onlinecdl.OnlineConvBPDNDictLearn) for learning a convolutional dictionary from a set of training images. The dictionary is learned using the online dictionary learning algorithm proposed in [[33]](http://sporco.rtfd.org/en/latest/zreferences.html#liu-2018-first). This variant of the example uses the GPU accelerated version of [onlinecdl](http://sporco.rtfd.org/en/latest/modules/sporco.dictlrn.onlinecdl.html#module-sporco.dictlrn.onlinecdl) within the [sporco.cupy](http://sporco.rtfd.org/en/latest/modules/sporco.cupy.html#module-sporco.cupy) subpackage."
   ]
  },
  {
   "cell_type": "code",
   "execution_count": 1,
   "metadata": {
    "collapsed": false
   },
   "outputs": [],
   "source": [
    "from __future__ import print_function\n",
    "from builtins import input\n",
    "\n",
    "import numpy as np\n",
    "\n",
    "from sporco import util\n",
    "from sporco import signal\n",
    "from sporco import plot\n",
    "plot.config_notebook_plotting()\n",
    "from sporco.cupy import (cupy_enabled, np2cp, cp2np, select_device_by_load,\n",
    "                         gpu_info)\n",
    "from sporco.cupy.dictlrn import onlinecdl"
   ]
  },
  {
   "cell_type": "markdown",
   "metadata": {},
   "source": [
    "Load training images."
   ]
  },
  {
   "cell_type": "code",
   "execution_count": 2,
   "metadata": {
    "collapsed": false
   },
   "outputs": [],
   "source": [
    "exim = util.ExampleImages(scaled=True, zoom=0.25)\n",
    "S1 = exim.image('barbara.png', idxexp=np.s_[10:522, 100:612])\n",
    "S2 = exim.image('kodim23.png', idxexp=np.s_[:, 60:572])\n",
    "S3 = exim.image('monarch.png', idxexp=np.s_[:, 160:672])\n",
    "S4 = exim.image('sail.png', idxexp=np.s_[:, 210:722])\n",
    "S5 = exim.image('tulips.png', idxexp=np.s_[:, 30:542])\n",
    "S = np.stack((S1, S2, S3, S4, S5), axis=3)"
   ]
  },
  {
   "cell_type": "markdown",
   "metadata": {},
   "source": [
    "Highpass filter training images."
   ]
  },
  {
   "cell_type": "code",
   "execution_count": 3,
   "metadata": {
    "collapsed": false
   },
   "outputs": [],
   "source": [
    "npd = 16\n",
    "fltlmbd = 5\n",
    "sl, sh = signal.tikhonov_filter(S, fltlmbd, npd)"
   ]
  },
  {
   "cell_type": "markdown",
   "metadata": {},
   "source": [
    "Construct initial dictionary."
   ]
  },
  {
   "cell_type": "code",
   "execution_count": 4,
   "metadata": {
    "collapsed": false
   },
   "outputs": [],
   "source": [
    "np.random.seed(12345)\n",
    "D0 = np.random.randn(8, 8, 3, 64)"
   ]
  },
  {
   "cell_type": "markdown",
   "metadata": {},
   "source": [
    "Set regularization parameter and options for dictionary learning solver."
   ]
  },
  {
   "cell_type": "code",
   "execution_count": 5,
   "metadata": {
    "collapsed": false
   },
   "outputs": [],
   "source": [
    "lmbda = 0.2\n",
    "opt = onlinecdl.OnlineConvBPDNDictLearn.Options({\n",
    "                'Verbose': True, 'ZeroMean': False, 'eta_a': 10.0,\n",
    "                'eta_b': 20.0, 'DataType': np.float32,\n",
    "                'CBPDN': {'rho': 5.0, 'AutoRho': {'Enabled': True},\n",
    "                    'RelaxParam': 1.8, 'RelStopTol': 1e-7, 'MaxMainIter': 50,\n",
    "                    'FastSolve': False, 'DataType': np.float32}})"
   ]
  },
  {
   "cell_type": "markdown",
   "metadata": {},
   "source": [
    "Create solver object and solve."
   ]
  },
  {
   "cell_type": "code",
   "execution_count": 6,
   "metadata": {
    "collapsed": false
   },
   "outputs": [
    {
     "name": "stdout",
     "output_type": "stream",
     "text": [
      "Running on GPU 0 (GeForce RTX 2080 Ti)\n",
      "\n"
     ]
    },
    {
     "name": "stdout",
     "output_type": "stream",
     "text": [
      "Itn   X r       X s       X ρ       D cnstr   D dlt     D η     \n",
      "----------------------------------------------------------------\n"
     ]
    },
    {
     "name": "stdout",
     "output_type": "stream",
     "text": [
      "   0  9.81e-04  1.58e-03  5.00e+00  8.03e+01  6.07e+00  5.00e-01\n"
     ]
    },
    {
     "name": "stdout",
     "output_type": "stream",
     "text": [
      "   1  1.82e-03  1.59e-03  5.00e+00  7.30e+01  4.64e+00  4.76e-01\n"
     ]
    },
    {
     "name": "stdout",
     "output_type": "stream",
     "text": [
      "   2  3.25e-03  2.01e-03  5.00e+00  2.38e+01  2.63e+00  4.55e-01\n"
     ]
    },
    {
     "name": "stdout",
     "output_type": "stream",
     "text": [
      "   3  1.91e-03  1.91e-03  5.00e+00  4.86e+01  2.31e+00  4.35e-01\n"
     ]
    },
    {
     "name": "stdout",
     "output_type": "stream",
     "text": [
      "   4  2.86e-03  1.80e-03  5.00e+00  2.00e+01  1.69e+00  4.17e-01\n"
     ]
    },
    {
     "name": "stdout",
     "output_type": "stream",
     "text": [
      "   5  1.87e-03  1.53e-03  5.00e+00  3.53e+01  1.98e+00  4.00e-01\n"
     ]
    },
    {
     "name": "stdout",
     "output_type": "stream",
     "text": [
      "   6  2.35e-03  3.19e-03  5.00e+00  3.60e+01  2.23e+00  3.85e-01\n"
     ]
    },
    {
     "name": "stdout",
     "output_type": "stream",
     "text": [
      "   7  1.69e-03  1.87e-03  5.00e+00  4.22e+01  2.15e+00  3.70e-01\n"
     ]
    },
    {
     "name": "stdout",
     "output_type": "stream",
     "text": [
      "   8  1.73e-03  1.51e-03  5.00e+00  3.19e+01  1.74e+00  3.57e-01\n"
     ]
    },
    {
     "name": "stdout",
     "output_type": "stream",
     "text": [
      "   9  2.01e-03  2.87e-03  5.00e+00  3.23e+01  1.86e+00  3.45e-01\n"
     ]
    },
    {
     "name": "stdout",
     "output_type": "stream",
     "text": [
      "  10  2.31e-03  1.91e-03  5.00e+00  1.58e+01  1.47e+00  3.33e-01\n"
     ]
    },
    {
     "name": "stdout",
     "output_type": "stream",
     "text": [
      "  11  1.90e-03  2.79e-03  5.00e+00  2.98e+01  1.57e+00  3.23e-01\n"
     ]
    },
    {
     "name": "stdout",
     "output_type": "stream",
     "text": [
      "  12  2.17e-03  1.87e-03  5.00e+00  2.49e+01  1.85e+00  3.12e-01\n"
     ]
    },
    {
     "name": "stdout",
     "output_type": "stream",
     "text": [
      "  13  2.61e-03  2.11e-03  5.00e+00  1.38e+01  1.17e+00  3.03e-01\n"
     ]
    },
    {
     "name": "stdout",
     "output_type": "stream",
     "text": [
      "  14  1.96e-03  2.23e-03  5.00e+00  3.45e+01  1.92e+00  2.94e-01\n"
     ]
    },
    {
     "name": "stdout",
     "output_type": "stream",
     "text": [
      "  15  2.37e-03  1.98e-03  5.00e+00  1.33e+01  1.03e+00  2.86e-01\n"
     ]
    },
    {
     "name": "stdout",
     "output_type": "stream",
     "text": [
      "  16  2.35e-03  2.16e-03  5.00e+00  2.16e+01  1.46e+00  2.78e-01\n"
     ]
    },
    {
     "name": "stdout",
     "output_type": "stream",
     "text": [
      "  17  2.27e-03  3.43e-03  5.00e+00  2.64e+01  1.82e+00  2.70e-01\n"
     ]
    },
    {
     "name": "stdout",
     "output_type": "stream",
     "text": [
      "  18  2.29e-03  2.04e-03  5.00e+00  1.25e+01  1.02e+00  2.63e-01\n"
     ]
    },
    {
     "name": "stdout",
     "output_type": "stream",
     "text": [
      "  19  1.92e-03  2.32e-03  5.00e+00  2.98e+01  1.54e+00  2.56e-01\n"
     ]
    },
    {
     "name": "stdout",
     "output_type": "stream",
     "text": [
      "  20  2.23e-03  2.11e-03  5.00e+00  1.95e+01  1.40e+00  2.50e-01\n"
     ]
    },
    {
     "name": "stdout",
     "output_type": "stream",
     "text": [
      "  21  2.18e-03  1.90e-03  5.00e+00  2.13e+01  1.24e+00  2.44e-01\n"
     ]
    },
    {
     "name": "stdout",
     "output_type": "stream",
     "text": [
      "  22  2.14e-03  3.30e-03  5.00e+00  2.33e+01  1.49e+00  2.38e-01\n"
     ]
    },
    {
     "name": "stdout",
     "output_type": "stream",
     "text": [
      "  23  1.85e-03  2.24e-03  5.00e+00  2.75e+01  1.41e+00  2.33e-01\n"
     ]
    },
    {
     "name": "stdout",
     "output_type": "stream",
     "text": [
      "  24  2.13e-03  1.98e-03  5.00e+00  1.78e+01  1.18e+00  2.27e-01\n"
     ]
    },
    {
     "name": "stdout",
     "output_type": "stream",
     "text": [
      "  25  2.10e-03  1.89e-03  5.00e+00  1.99e+01  1.14e+00  2.22e-01\n"
     ]
    },
    {
     "name": "stdout",
     "output_type": "stream",
     "text": [
      "  26  1.83e-03  2.28e-03  5.00e+00  2.58e+01  1.26e+00  2.17e-01\n"
     ]
    },
    {
     "name": "stdout",
     "output_type": "stream",
     "text": [
      "  27  1.70e-03  2.18e-03  5.00e+00  2.48e+01  8.44e-01  2.13e-01\n"
     ]
    },
    {
     "name": "stdout",
     "output_type": "stream",
     "text": [
      "  28  1.68e-03  2.22e-03  5.00e+00  2.44e+01  6.93e-01  2.08e-01\n"
     ]
    },
    {
     "name": "stdout",
     "output_type": "stream",
     "text": [
      "  29  2.16e-03  1.96e-03  5.00e+00  1.59e+01  1.21e+00  2.04e-01\n"
     ]
    },
    {
     "name": "stdout",
     "output_type": "stream",
     "text": [
      "  30  1.77e-03  2.36e-03  5.00e+00  2.40e+01  8.80e-01  2.00e-01\n"
     ]
    },
    {
     "name": "stdout",
     "output_type": "stream",
     "text": [
      "  31  1.92e-03  1.67e-03  5.00e+00  1.75e+01  1.15e+00  1.96e-01\n"
     ]
    },
    {
     "name": "stdout",
     "output_type": "stream",
     "text": [
      "  32  1.75e-03  1.60e-03  5.00e+00  1.76e+01  8.28e-01  1.92e-01\n"
     ]
    },
    {
     "name": "stdout",
     "output_type": "stream",
     "text": [
      "  33  2.10e-03  1.94e-03  5.00e+00  1.48e+01  1.00e+00  1.89e-01\n"
     ]
    },
    {
     "name": "stdout",
     "output_type": "stream",
     "text": [
      "  34  1.74e-03  2.23e-03  5.00e+00  2.26e+01  1.18e+00  1.85e-01\n"
     ]
    },
    {
     "name": "stdout",
     "output_type": "stream",
     "text": [
      "  35  2.12e-03  2.02e-03  5.00e+00  1.43e+01  8.84e-01  1.82e-01\n"
     ]
    },
    {
     "name": "stdout",
     "output_type": "stream",
     "text": [
      "  36  1.72e-03  2.25e-03  5.00e+00  2.16e+01  8.68e-01  1.79e-01\n"
     ]
    },
    {
     "name": "stdout",
     "output_type": "stream",
     "text": [
      "  37  2.15e-03  2.10e-03  5.00e+00  1.39e+01  7.84e-01  1.75e-01\n"
     ]
    },
    {
     "name": "stdout",
     "output_type": "stream",
     "text": [
      "  38  2.04e-03  1.82e-03  5.00e+00  1.57e+01  9.79e-01  1.72e-01\n"
     ]
    },
    {
     "name": "stdout",
     "output_type": "stream",
     "text": [
      "  39  1.70e-03  2.23e-03  5.00e+00  2.08e+01  1.00e+00  1.69e-01\n"
     ]
    },
    {
     "name": "stdout",
     "output_type": "stream",
     "text": [
      "  40  2.27e-03  3.35e-03  5.00e+00  1.62e+01  1.47e+00  1.67e-01\n"
     ]
    },
    {
     "name": "stdout",
     "output_type": "stream",
     "text": [
      "  41  2.03e-03  3.22e-03  5.00e+00  1.58e+01  1.04e+00  1.64e-01\n"
     ]
    },
    {
     "name": "stdout",
     "output_type": "stream",
     "text": [
      "  42  1.85e-03  3.02e-03  5.00e+00  1.58e+01  9.14e-01  1.61e-01\n"
     ]
    },
    {
     "name": "stdout",
     "output_type": "stream",
     "text": [
      "  43  1.68e-03  2.84e-03  5.00e+00  1.58e+01  9.14e-01  1.59e-01\n"
     ]
    },
    {
     "name": "stdout",
     "output_type": "stream",
     "text": [
      "  44  1.97e-03  1.74e-03  5.00e+00  1.38e+01  9.08e-01  1.56e-01\n"
     ]
    },
    {
     "name": "stdout",
     "output_type": "stream",
     "text": [
      "  45  2.12e-03  1.96e-03  5.00e+00  1.21e+01  9.53e-01  1.54e-01\n"
     ]
    },
    {
     "name": "stdout",
     "output_type": "stream",
     "text": [
      "  46  1.86e-03  3.08e-03  5.00e+00  1.57e+01  1.02e+00  1.52e-01\n"
     ]
    },
    {
     "name": "stdout",
     "output_type": "stream",
     "text": [
      "  47  1.82e-03  2.28e-03  5.00e+00  1.83e+01  1.24e+00  1.49e-01\n"
     ]
    },
    {
     "name": "stdout",
     "output_type": "stream",
     "text": [
      "  48  1.60e-03  2.72e-03  5.00e+00  1.52e+01  9.08e-01  1.47e-01\n"
     ]
    },
    {
     "name": "stdout",
     "output_type": "stream",
     "text": [
      "  49  2.05e-03  1.96e-03  5.00e+00  1.14e+01  8.44e-01  1.45e-01\n",
      "----------------------------------------------------------------\n",
      "OnlineConvBPDNDictLearn solve time: 20.60s\n"
     ]
    }
   ],
   "source": [
    "if not cupy_enabled():\n",
    "    print('CuPy/GPU device not available: running without GPU acceleration\\n')\n",
    "else:\n",
    "    id = select_device_by_load()\n",
    "    info = gpu_info()\n",
    "    if info:\n",
    "        print('Running on GPU %d (%s)\\n' % (id, info[id].name))\n",
    "\n",
    "d = onlinecdl.OnlineConvBPDNDictLearn(np2cp(D0), lmbda, opt)\n",
    "\n",
    "iter = 50\n",
    "d.display_start()\n",
    "for it in range(iter):\n",
    "    img_index = np.random.randint(0, sh.shape[-1])\n",
    "    d.solve(np2cp(sh[..., [img_index]]))\n",
    "\n",
    "d.display_end()\n",
    "D1 = cp2np(d.getdict())\n",
    "print(\"OnlineConvBPDNDictLearn solve time: %.2fs\" % d.timer.elapsed('solve'))"
   ]
  },
  {
   "cell_type": "markdown",
   "metadata": {},
   "source": [
    "Display initial and final dictionaries."
   ]
  },
  {
   "cell_type": "code",
   "execution_count": 7,
   "metadata": {
    "collapsed": false
   },
   "outputs": [
    {
     "data": {
      "image/png": "[encoded data removed]",
      "text/plain": [
       "<Figure size 1008x504 with 2 Axes>"
      ]
     },
     "metadata": {
      "needs_background": "light"
     },
     "output_type": "display_data"
    }
   ],
   "source": [
    "D1 = D1.squeeze()\n",
    "fig = plot.figure(figsize=(14, 7))\n",
    "plot.subplot(1, 2, 1)\n",
    "plot.imview(util.tiledict(D0), title='D0', fig=fig)\n",
    "plot.subplot(1, 2, 2)\n",
    "plot.imview(util.tiledict(D1), title='D1', fig=fig)\n",
    "fig.show()"
   ]
  },
  {
   "cell_type": "markdown",
   "metadata": {},
   "source": [
    "Get iterations statistics from solver object and plot functional value."
   ]
  },
  {
   "cell_type": "code",
   "execution_count": 8,
   "metadata": {
    "collapsed": false
   },
   "outputs": [
    {
     "data": {
      "image/png": "[encoded data removed]",
      "text/plain": [
       "<Figure size 504x504 with 1 Axes>"
      ]
     },
     "metadata": {
      "needs_background": "light"
     },
     "output_type": "display_data"
    }
   ],
   "source": [
    "its = d.getitstat()\n",
    "fig = plot.figure(figsize=(7, 7))\n",
    "plot.plot(np.vstack((its.DeltaD, its.Eta)).T, xlbl='Iterations',\n",
    "          lgnd=('Delta D', 'Eta'), fig=fig)\n",
    "fig.show()"
   ]
  }
 ],
 "metadata": {
  "language_info": {
   "codemirror_mode": {
    "name": "ipython",
    "version": 3
   },
   "file_extension": ".py",
   "mimetype": "text/x-python",
   "name": "python",
   "nbconvert_exporter": "python",
   "pygments_lexer": "ipython3",
   "version": "3.7.6"
  }
 },
 "nbformat": 4,
 "nbformat_minor": 4
}
