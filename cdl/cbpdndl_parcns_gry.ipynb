{
 "cells": [
  {
   "cell_type": "markdown",
   "metadata": {},
   "source": [
    "Convolutional Dictionary Learning\n",
    "=================================\n",
    "\n",
    "This example demonstrates the use of [prlcnscdl.ConvBPDNDictLearn_Consensus](http://sporco.rtfd.org/en/latest/modules/sporco.dictlrn.prlcnscdl.html#sporco.dictlrn.prlcnscdl.ConvBPDNDictLearn_Consensus) for learning a convolutional dictionary from a set of training images. The dictionary learning algorithm is based on the ADMM consensus dictionary update [[1]](http://sporco.rtfd.org/en/latest/zreferences.html#sorel-2016-fast) [[26]](http://sporco.rtfd.org/en/latest/zreferences.html#garcia-2018-convolutional1)."
   ]
  },
  {
   "cell_type": "code",
   "execution_count": 1,
   "metadata": {
    "collapsed": false
   },
   "outputs": [],
   "source": [
    "from __future__ import print_function\n",
    "from builtins import input\n",
    "\n",
    "import pyfftw   # See https://github.com/pyFFTW/pyFFTW/issues/40\n",
    "import numpy as np\n",
    "\n",
    "from sporco.dictlrn import prlcnscdl\n",
    "from sporco import util\n",
    "from sporco import signal\n",
    "from sporco import plot\n",
    "plot.config_notebook_plotting()"
   ]
  },
  {
   "cell_type": "markdown",
   "metadata": {},
   "source": [
    "Load training images."
   ]
  },
  {
   "cell_type": "code",
   "execution_count": 2,
   "metadata": {
    "collapsed": false
   },
   "outputs": [],
   "source": [
    "exim = util.ExampleImages(scaled=True, zoom=0.25, gray=True)\n",
    "S1 = exim.image('barbara.png', idxexp=np.s_[10:522, 100:612])\n",
    "S2 = exim.image('kodim23.png', idxexp=np.s_[:, 60:572])\n",
    "S3 = exim.image('monarch.png', idxexp=np.s_[:, 160:672])\n",
    "S4 = exim.image('sail.png', idxexp=np.s_[:, 210:722])\n",
    "S5 = exim.image('tulips.png', idxexp=np.s_[:, 30:542])\n",
    "S = np.dstack((S1, S2, S3, S4, S5))"
   ]
  },
  {
   "cell_type": "markdown",
   "metadata": {},
   "source": [
    "Highpass filter training images."
   ]
  },
  {
   "cell_type": "code",
   "execution_count": 3,
   "metadata": {
    "collapsed": false
   },
   "outputs": [],
   "source": [
    "npd = 16\n",
    "fltlmbd = 5\n",
    "sl, sh = signal.tikhonov_filter(S, fltlmbd, npd)"
   ]
  },
  {
   "cell_type": "markdown",
   "metadata": {},
   "source": [
    "Construct initial dictionary."
   ]
  },
  {
   "cell_type": "code",
   "execution_count": 4,
   "metadata": {
    "collapsed": false
   },
   "outputs": [],
   "source": [
    "np.random.seed(12345)\n",
    "D0 = np.random.randn(8, 8, 64)"
   ]
  },
  {
   "cell_type": "markdown",
   "metadata": {},
   "source": [
    "Set regularization parameter and options for dictionary learning solver."
   ]
  },
  {
   "cell_type": "code",
   "execution_count": 5,
   "metadata": {
    "collapsed": false
   },
   "outputs": [],
   "source": [
    "lmbda = 0.2\n",
    "opt = prlcnscdl.ConvBPDNDictLearn_Consensus.Options({'Verbose': True,\n",
    "                        'MaxMainIter': 200,\n",
    "                        'CBPDN': {'rho': 50.0*lmbda + 0.5},\n",
    "                        'CCMOD': {'rho': 1.0, 'ZeroMean': True}})"
   ]
  },
  {
   "cell_type": "markdown",
   "metadata": {},
   "source": [
    "Create solver object and solve."
   ]
  },
  {
   "cell_type": "code",
   "execution_count": 6,
   "metadata": {
    "collapsed": false
   },
   "outputs": [
    {
     "name": "stdout",
     "output_type": "stream",
     "text": [
      "Itn   Fnc       DFid      Regℓ1   \n",
      "----------------------------------\n"
     ]
    },
    {
     "name": "stdout",
     "output_type": "stream",
     "text": [
      "   0  4.18e+02  4.18e+02  1.97e-01\n",
      "   1  4.01e+02  3.92e+02  4.45e+01\n"
     ]
    },
    {
     "name": "stdout",
     "output_type": "stream",
     "text": [
      "   2  3.50e+02  3.00e+02  2.48e+02\n",
      "   3  3.23e+02  2.10e+02  5.66e+02\n"
     ]
    },
    {
     "name": "stdout",
     "output_type": "stream",
     "text": [
      "   4  3.13e+02  1.53e+02  7.99e+02\n",
      "   5  3.03e+02  1.22e+02  9.04e+02\n"
     ]
    },
    {
     "name": "stdout",
     "output_type": "stream",
     "text": [
      "   6  2.91e+02  1.10e+02  9.03e+02\n",
      "   7  2.79e+02  1.09e+02  8.53e+02\n"
     ]
    },
    {
     "name": "stdout",
     "output_type": "stream",
     "text": [
      "   8  2.71e+02  1.11e+02  8.00e+02\n",
      "   9  2.66e+02  1.13e+02  7.62e+02\n"
     ]
    },
    {
     "name": "stdout",
     "output_type": "stream",
     "text": [
      "  10  2.62e+02  1.14e+02  7.43e+02\n",
      "  11  2.60e+02  1.13e+02  7.35e+02\n"
     ]
    },
    {
     "name": "stdout",
     "output_type": "stream",
     "text": [
      "  12  2.58e+02  1.11e+02  7.34e+02\n",
      "  13  2.56e+02  1.09e+02  7.35e+02\n"
     ]
    },
    {
     "name": "stdout",
     "output_type": "stream",
     "text": [
      "  14  2.55e+02  1.07e+02  7.37e+02\n",
      "  15  2.53e+02  1.06e+02  7.38e+02\n"
     ]
    },
    {
     "name": "stdout",
     "output_type": "stream",
     "text": [
      "  16  2.52e+02  1.05e+02  7.38e+02\n",
      "  17  2.51e+02  1.04e+02  7.37e+02\n"
     ]
    },
    {
     "name": "stdout",
     "output_type": "stream",
     "text": [
      "  18  2.50e+02  1.03e+02  7.35e+02\n",
      "  19  2.50e+02  1.03e+02  7.33e+02\n"
     ]
    },
    {
     "name": "stdout",
     "output_type": "stream",
     "text": [
      "  20  2.49e+02  1.03e+02  7.31e+02\n",
      "  21  2.48e+02  1.03e+02  7.28e+02\n"
     ]
    },
    {
     "name": "stdout",
     "output_type": "stream",
     "text": [
      "  22  2.48e+02  1.02e+02  7.26e+02\n",
      "  23  2.47e+02  1.02e+02  7.25e+02\n"
     ]
    },
    {
     "name": "stdout",
     "output_type": "stream",
     "text": [
      "  24  2.47e+02  1.02e+02  7.24e+02\n",
      "  25  2.46e+02  1.02e+02  7.23e+02\n"
     ]
    },
    {
     "name": "stdout",
     "output_type": "stream",
     "text": [
      "  26  2.46e+02  1.01e+02  7.22e+02\n",
      "  27  2.45e+02  1.01e+02  7.21e+02\n"
     ]
    },
    {
     "name": "stdout",
     "output_type": "stream",
     "text": [
      "  28  2.45e+02  1.01e+02  7.21e+02\n",
      "  29  2.45e+02  1.01e+02  7.20e+02\n"
     ]
    },
    {
     "name": "stdout",
     "output_type": "stream",
     "text": [
      "  30  2.44e+02  1.00e+02  7.20e+02\n",
      "  31  2.44e+02  1.00e+02  7.19e+02\n"
     ]
    },
    {
     "name": "stdout",
     "output_type": "stream",
     "text": [
      "  32  2.44e+02  1.00e+02  7.18e+02\n",
      "  33  2.43e+02  1.00e+02  7.17e+02\n"
     ]
    },
    {
     "name": "stdout",
     "output_type": "stream",
     "text": [
      "  34  2.43e+02  9.98e+01  7.17e+02\n",
      "  35  2.43e+02  9.97e+01  7.16e+02\n"
     ]
    },
    {
     "name": "stdout",
     "output_type": "stream",
     "text": [
      "  36  2.43e+02  9.96e+01  7.15e+02\n",
      "  37  2.42e+02  9.94e+01  7.15e+02\n"
     ]
    },
    {
     "name": "stdout",
     "output_type": "stream",
     "text": [
      "  38  2.42e+02  9.93e+01  7.14e+02\n",
      "  39  2.42e+02  9.91e+01  7.14e+02\n"
     ]
    },
    {
     "name": "stdout",
     "output_type": "stream",
     "text": [
      "  40  2.42e+02  9.90e+01  7.13e+02\n",
      "  41  2.41e+02  9.89e+01  7.13e+02\n"
     ]
    },
    {
     "name": "stdout",
     "output_type": "stream",
     "text": [
      "  42  2.41e+02  9.88e+01  7.12e+02\n",
      "  43  2.41e+02  9.87e+01  7.12e+02\n"
     ]
    },
    {
     "name": "stdout",
     "output_type": "stream",
     "text": [
      "  44  2.41e+02  9.85e+01  7.12e+02\n",
      "  45  2.41e+02  9.84e+01  7.11e+02\n"
     ]
    },
    {
     "name": "stdout",
     "output_type": "stream",
     "text": [
      "  46  2.41e+02  9.83e+01  7.11e+02\n",
      "  47  2.40e+02  9.83e+01  7.11e+02\n"
     ]
    },
    {
     "name": "stdout",
     "output_type": "stream",
     "text": [
      "  48  2.40e+02  9.82e+01  7.10e+02\n",
      "  49  2.40e+02  9.81e+01  7.10e+02\n"
     ]
    },
    {
     "name": "stdout",
     "output_type": "stream",
     "text": [
      "  50  2.40e+02  9.80e+01  7.09e+02\n",
      "  51  2.40e+02  9.79e+01  7.09e+02\n"
     ]
    },
    {
     "name": "stdout",
     "output_type": "stream",
     "text": [
      "  52  2.40e+02  9.79e+01  7.09e+02\n",
      "  53  2.39e+02  9.78e+01  7.08e+02\n"
     ]
    },
    {
     "name": "stdout",
     "output_type": "stream",
     "text": [
      "  54  2.39e+02  9.77e+01  7.08e+02\n",
      "  55  2.39e+02  9.77e+01  7.08e+02\n"
     ]
    },
    {
     "name": "stdout",
     "output_type": "stream",
     "text": [
      "  56  2.39e+02  9.76e+01  7.07e+02\n",
      "  57  2.39e+02  9.76e+01  7.07e+02\n"
     ]
    },
    {
     "name": "stdout",
     "output_type": "stream",
     "text": [
      "  58  2.39e+02  9.75e+01  7.07e+02\n",
      "  59  2.39e+02  9.75e+01  7.06e+02\n"
     ]
    },
    {
     "name": "stdout",
     "output_type": "stream",
     "text": [
      "  60  2.39e+02  9.74e+01  7.06e+02\n",
      "  61  2.38e+02  9.74e+01  7.06e+02\n"
     ]
    },
    {
     "name": "stdout",
     "output_type": "stream",
     "text": [
      "  62  2.38e+02  9.73e+01  7.05e+02\n",
      "  63  2.38e+02  9.73e+01  7.05e+02\n"
     ]
    },
    {
     "name": "stdout",
     "output_type": "stream",
     "text": [
      "  64  2.38e+02  9.72e+01  7.05e+02\n",
      "  65  2.38e+02  9.71e+01  7.05e+02\n"
     ]
    },
    {
     "name": "stdout",
     "output_type": "stream",
     "text": [
      "  66  2.38e+02  9.71e+01  7.04e+02\n",
      "  67  2.38e+02  9.70e+01  7.04e+02\n"
     ]
    },
    {
     "name": "stdout",
     "output_type": "stream",
     "text": [
      "  68  2.38e+02  9.70e+01  7.04e+02\n",
      "  69  2.38e+02  9.69e+01  7.04e+02\n"
     ]
    },
    {
     "name": "stdout",
     "output_type": "stream",
     "text": [
      "  70  2.38e+02  9.69e+01  7.04e+02\n",
      "  71  2.38e+02  9.69e+01  7.03e+02\n"
     ]
    },
    {
     "name": "stdout",
     "output_type": "stream",
     "text": [
      "  72  2.37e+02  9.68e+01  7.03e+02\n",
      "  73  2.37e+02  9.68e+01  7.03e+02\n"
     ]
    },
    {
     "name": "stdout",
     "output_type": "stream",
     "text": [
      "  74  2.37e+02  9.67e+01  7.03e+02\n",
      "  75  2.37e+02  9.66e+01  7.03e+02\n"
     ]
    },
    {
     "name": "stdout",
     "output_type": "stream",
     "text": [
      "  76  2.37e+02  9.66e+01  7.03e+02\n",
      "  77  2.37e+02  9.66e+01  7.03e+02\n"
     ]
    },
    {
     "name": "stdout",
     "output_type": "stream",
     "text": [
      "  78  2.37e+02  9.65e+01  7.03e+02\n",
      "  79  2.37e+02  9.65e+01  7.02e+02\n"
     ]
    },
    {
     "name": "stdout",
     "output_type": "stream",
     "text": [
      "  80  2.37e+02  9.64e+01  7.02e+02\n",
      "  81  2.37e+02  9.64e+01  7.02e+02\n"
     ]
    },
    {
     "name": "stdout",
     "output_type": "stream",
     "text": [
      "  82  2.37e+02  9.63e+01  7.02e+02\n",
      "  83  2.37e+02  9.63e+01  7.02e+02\n"
     ]
    },
    {
     "name": "stdout",
     "output_type": "stream",
     "text": [
      "  84  2.37e+02  9.63e+01  7.02e+02\n",
      "  85  2.37e+02  9.62e+01  7.02e+02\n"
     ]
    },
    {
     "name": "stdout",
     "output_type": "stream",
     "text": [
      "  86  2.36e+02  9.62e+01  7.01e+02\n",
      "  87  2.36e+02  9.62e+01  7.01e+02\n"
     ]
    },
    {
     "name": "stdout",
     "output_type": "stream",
     "text": [
      "  88  2.36e+02  9.62e+01  7.01e+02\n",
      "  89  2.36e+02  9.61e+01  7.01e+02\n"
     ]
    },
    {
     "name": "stdout",
     "output_type": "stream",
     "text": [
      "  90  2.36e+02  9.61e+01  7.01e+02\n",
      "  91  2.36e+02  9.61e+01  7.01e+02\n"
     ]
    },
    {
     "name": "stdout",
     "output_type": "stream",
     "text": [
      "  92  2.36e+02  9.61e+01  7.00e+02\n",
      "  93  2.36e+02  9.61e+01  7.00e+02\n"
     ]
    },
    {
     "name": "stdout",
     "output_type": "stream",
     "text": [
      "  94  2.36e+02  9.60e+01  7.00e+02\n",
      "  95  2.36e+02  9.60e+01  7.00e+02\n"
     ]
    },
    {
     "name": "stdout",
     "output_type": "stream",
     "text": [
      "  96  2.36e+02  9.60e+01  7.00e+02\n",
      "  97  2.36e+02  9.60e+01  7.00e+02\n"
     ]
    },
    {
     "name": "stdout",
     "output_type": "stream",
     "text": [
      "  98  2.36e+02  9.60e+01  6.99e+02\n",
      "  99  2.36e+02  9.60e+01  6.99e+02\n"
     ]
    },
    {
     "name": "stdout",
     "output_type": "stream",
     "text": [
      " 100  2.36e+02  9.59e+01  6.99e+02\n",
      " 101  2.36e+02  9.59e+01  6.99e+02\n"
     ]
    },
    {
     "name": "stdout",
     "output_type": "stream",
     "text": [
      " 102  2.36e+02  9.59e+01  6.99e+02\n",
      " 103  2.36e+02  9.59e+01  6.99e+02\n"
     ]
    },
    {
     "name": "stdout",
     "output_type": "stream",
     "text": [
      " 104  2.36e+02  9.59e+01  6.98e+02\n",
      " 105  2.36e+02  9.59e+01  6.98e+02\n"
     ]
    },
    {
     "name": "stdout",
     "output_type": "stream",
     "text": [
      " 106  2.35e+02  9.59e+01  6.98e+02\n",
      " 107  2.35e+02  9.58e+01  6.98e+02\n"
     ]
    },
    {
     "name": "stdout",
     "output_type": "stream",
     "text": [
      " 108  2.35e+02  9.58e+01  6.98e+02\n",
      " 109  2.35e+02  9.58e+01  6.98e+02\n"
     ]
    },
    {
     "name": "stdout",
     "output_type": "stream",
     "text": [
      " 110  2.35e+02  9.58e+01  6.97e+02\n",
      " 111  2.35e+02  9.58e+01  6.97e+02\n"
     ]
    },
    {
     "name": "stdout",
     "output_type": "stream",
     "text": [
      " 112  2.35e+02  9.58e+01  6.97e+02\n",
      " 113  2.35e+02  9.58e+01  6.97e+02\n"
     ]
    },
    {
     "name": "stdout",
     "output_type": "stream",
     "text": [
      " 114  2.35e+02  9.58e+01  6.97e+02\n",
      " 115  2.35e+02  9.57e+01  6.97e+02\n"
     ]
    },
    {
     "name": "stdout",
     "output_type": "stream",
     "text": [
      " 116  2.35e+02  9.57e+01  6.97e+02\n",
      " 117  2.35e+02  9.57e+01  6.97e+02\n"
     ]
    },
    {
     "name": "stdout",
     "output_type": "stream",
     "text": [
      " 118  2.35e+02  9.57e+01  6.97e+02\n",
      " 119  2.35e+02  9.57e+01  6.96e+02\n"
     ]
    },
    {
     "name": "stdout",
     "output_type": "stream",
     "text": [
      " 120  2.35e+02  9.57e+01  6.96e+02\n",
      " 121  2.35e+02  9.57e+01  6.96e+02\n"
     ]
    },
    {
     "name": "stdout",
     "output_type": "stream",
     "text": [
      " 122  2.35e+02  9.56e+01  6.96e+02\n",
      " 123  2.35e+02  9.56e+01  6.96e+02\n"
     ]
    },
    {
     "name": "stdout",
     "output_type": "stream",
     "text": [
      " 124  2.35e+02  9.56e+01  6.96e+02\n",
      " 125  2.35e+02  9.56e+01  6.96e+02\n"
     ]
    },
    {
     "name": "stdout",
     "output_type": "stream",
     "text": [
      " 126  2.35e+02  9.56e+01  6.96e+02\n",
      " 127  2.35e+02  9.56e+01  6.95e+02\n"
     ]
    },
    {
     "name": "stdout",
     "output_type": "stream",
     "text": [
      " 128  2.35e+02  9.56e+01  6.95e+02\n",
      " 129  2.35e+02  9.56e+01  6.95e+02\n"
     ]
    },
    {
     "name": "stdout",
     "output_type": "stream",
     "text": [
      " 130  2.35e+02  9.56e+01  6.95e+02\n",
      " 131  2.35e+02  9.56e+01  6.95e+02\n"
     ]
    },
    {
     "name": "stdout",
     "output_type": "stream",
     "text": [
      " 132  2.35e+02  9.56e+01  6.95e+02\n",
      " 133  2.34e+02  9.56e+01  6.95e+02\n"
     ]
    },
    {
     "name": "stdout",
     "output_type": "stream",
     "text": [
      " 134  2.34e+02  9.56e+01  6.95e+02\n",
      " 135  2.34e+02  9.56e+01  6.94e+02\n"
     ]
    },
    {
     "name": "stdout",
     "output_type": "stream",
     "text": [
      " 136  2.34e+02  9.55e+01  6.94e+02\n",
      " 137  2.34e+02  9.55e+01  6.94e+02\n"
     ]
    },
    {
     "name": "stdout",
     "output_type": "stream",
     "text": [
      " 138  2.34e+02  9.55e+01  6.94e+02\n",
      " 139  2.34e+02  9.55e+01  6.94e+02\n"
     ]
    },
    {
     "name": "stdout",
     "output_type": "stream",
     "text": [
      " 140  2.34e+02  9.55e+01  6.94e+02\n",
      " 141  2.34e+02  9.55e+01  6.94e+02\n"
     ]
    },
    {
     "name": "stdout",
     "output_type": "stream",
     "text": [
      " 142  2.34e+02  9.55e+01  6.94e+02\n",
      " 143  2.34e+02  9.55e+01  6.93e+02\n"
     ]
    },
    {
     "name": "stdout",
     "output_type": "stream",
     "text": [
      " 144  2.34e+02  9.55e+01  6.93e+02\n",
      " 145  2.34e+02  9.55e+01  6.93e+02\n"
     ]
    },
    {
     "name": "stdout",
     "output_type": "stream",
     "text": [
      " 146  2.34e+02  9.55e+01  6.93e+02\n",
      " 147  2.34e+02  9.55e+01  6.93e+02\n"
     ]
    },
    {
     "name": "stdout",
     "output_type": "stream",
     "text": [
      " 148  2.34e+02  9.55e+01  6.93e+02\n",
      " 149  2.34e+02  9.55e+01  6.93e+02\n"
     ]
    },
    {
     "name": "stdout",
     "output_type": "stream",
     "text": [
      " 150  2.34e+02  9.55e+01  6.92e+02\n",
      " 151  2.34e+02  9.55e+01  6.92e+02\n"
     ]
    },
    {
     "name": "stdout",
     "output_type": "stream",
     "text": [
      " 152  2.34e+02  9.55e+01  6.92e+02\n",
      " 153  2.34e+02  9.55e+01  6.92e+02\n"
     ]
    },
    {
     "name": "stdout",
     "output_type": "stream",
     "text": [
      " 154  2.34e+02  9.55e+01  6.92e+02\n",
      " 155  2.34e+02  9.55e+01  6.92e+02\n"
     ]
    },
    {
     "name": "stdout",
     "output_type": "stream",
     "text": [
      " 156  2.34e+02  9.55e+01  6.92e+02\n",
      " 157  2.34e+02  9.55e+01  6.92e+02\n"
     ]
    },
    {
     "name": "stdout",
     "output_type": "stream",
     "text": [
      " 158  2.34e+02  9.55e+01  6.92e+02\n",
      " 159  2.34e+02  9.55e+01  6.91e+02\n"
     ]
    },
    {
     "name": "stdout",
     "output_type": "stream",
     "text": [
      " 160  2.34e+02  9.55e+01  6.91e+02\n",
      " 161  2.34e+02  9.55e+01  6.91e+02\n"
     ]
    },
    {
     "name": "stdout",
     "output_type": "stream",
     "text": [
      " 162  2.34e+02  9.55e+01  6.91e+02\n",
      " 163  2.34e+02  9.55e+01  6.91e+02\n"
     ]
    },
    {
     "name": "stdout",
     "output_type": "stream",
     "text": [
      " 164  2.34e+02  9.54e+01  6.91e+02\n",
      " 165  2.34e+02  9.54e+01  6.91e+02\n"
     ]
    },
    {
     "name": "stdout",
     "output_type": "stream",
     "text": [
      " 166  2.34e+02  9.54e+01  6.91e+02\n",
      " 167  2.34e+02  9.54e+01  6.91e+02\n"
     ]
    },
    {
     "name": "stdout",
     "output_type": "stream",
     "text": [
      " 168  2.34e+02  9.54e+01  6.90e+02\n",
      " 169  2.33e+02  9.54e+01  6.90e+02\n"
     ]
    },
    {
     "name": "stdout",
     "output_type": "stream",
     "text": [
      " 170  2.33e+02  9.54e+01  6.90e+02\n",
      " 171  2.33e+02  9.54e+01  6.90e+02\n"
     ]
    },
    {
     "name": "stdout",
     "output_type": "stream",
     "text": [
      " 172  2.33e+02  9.54e+01  6.90e+02\n",
      " 173  2.33e+02  9.54e+01  6.90e+02\n"
     ]
    },
    {
     "name": "stdout",
     "output_type": "stream",
     "text": [
      " 174  2.33e+02  9.54e+01  6.90e+02\n",
      " 175  2.33e+02  9.54e+01  6.90e+02\n"
     ]
    },
    {
     "name": "stdout",
     "output_type": "stream",
     "text": [
      " 176  2.33e+02  9.54e+01  6.90e+02\n",
      " 177  2.33e+02  9.54e+01  6.90e+02\n"
     ]
    },
    {
     "name": "stdout",
     "output_type": "stream",
     "text": [
      " 178  2.33e+02  9.54e+01  6.89e+02\n",
      " 179  2.33e+02  9.53e+01  6.89e+02\n"
     ]
    },
    {
     "name": "stdout",
     "output_type": "stream",
     "text": [
      " 180  2.33e+02  9.53e+01  6.89e+02\n",
      " 181  2.33e+02  9.53e+01  6.89e+02\n"
     ]
    },
    {
     "name": "stdout",
     "output_type": "stream",
     "text": [
      " 182  2.33e+02  9.53e+01  6.89e+02\n",
      " 183  2.33e+02  9.53e+01  6.89e+02\n"
     ]
    },
    {
     "name": "stdout",
     "output_type": "stream",
     "text": [
      " 184  2.33e+02  9.53e+01  6.89e+02\n",
      " 185  2.33e+02  9.53e+01  6.89e+02\n"
     ]
    },
    {
     "name": "stdout",
     "output_type": "stream",
     "text": [
      " 186  2.33e+02  9.53e+01  6.89e+02\n",
      " 187  2.33e+02  9.53e+01  6.89e+02\n"
     ]
    },
    {
     "name": "stdout",
     "output_type": "stream",
     "text": [
      " 188  2.33e+02  9.53e+01  6.89e+02\n",
      " 189  2.33e+02  9.53e+01  6.88e+02\n"
     ]
    },
    {
     "name": "stdout",
     "output_type": "stream",
     "text": [
      " 190  2.33e+02  9.53e+01  6.88e+02\n",
      " 191  2.33e+02  9.52e+01  6.88e+02\n"
     ]
    },
    {
     "name": "stdout",
     "output_type": "stream",
     "text": [
      " 192  2.33e+02  9.52e+01  6.88e+02\n",
      " 193  2.33e+02  9.52e+01  6.88e+02\n"
     ]
    },
    {
     "name": "stdout",
     "output_type": "stream",
     "text": [
      " 194  2.33e+02  9.52e+01  6.88e+02\n",
      " 195  2.33e+02  9.52e+01  6.88e+02\n"
     ]
    },
    {
     "name": "stdout",
     "output_type": "stream",
     "text": [
      " 196  2.33e+02  9.52e+01  6.88e+02\n",
      " 197  2.33e+02  9.52e+01  6.88e+02\n"
     ]
    },
    {
     "name": "stdout",
     "output_type": "stream",
     "text": [
      " 198  2.33e+02  9.52e+01  6.88e+02\n",
      " 199  2.33e+02  9.52e+01  6.88e+02\n",
      "----------------------------------\n",
      "ConvBPDNDictLearn_Consensus solve time: 29.26s\n"
     ]
    }
   ],
   "source": [
    "d = prlcnscdl.ConvBPDNDictLearn_Consensus(D0, sh, lmbda, opt)\n",
    "D1 = d.solve()\n",
    "print(\"ConvBPDNDictLearn_Consensus solve time: %.2fs\" %\n",
    "      d.timer.elapsed('solve'))"
   ]
  },
  {
   "cell_type": "markdown",
   "metadata": {},
   "source": [
    "Display initial and final dictionaries."
   ]
  },
  {
   "cell_type": "code",
   "execution_count": 7,
   "metadata": {
    "collapsed": false
   },
   "outputs": [
    {
     "data": {
      "image/png": "[encoded data removed]",
      "text/plain": [
       "<Figure size 1008x504 with 2 Axes>"
      ]
     },
     "metadata": {
      "needs_background": "light"
     },
     "output_type": "display_data"
    }
   ],
   "source": [
    "D1 = D1.squeeze()\n",
    "fig = plot.figure(figsize=(14, 7))\n",
    "plot.subplot(1, 2, 1)\n",
    "plot.imview(util.tiledict(D0), title='D0', fig=fig)\n",
    "plot.subplot(1, 2, 2)\n",
    "plot.imview(util.tiledict(D1), title='D1', fig=fig)\n",
    "fig.show()"
   ]
  },
  {
   "cell_type": "markdown",
   "metadata": {},
   "source": [
    "Get iterations statistics from solver object and plot functional value"
   ]
  },
  {
   "cell_type": "code",
   "execution_count": 8,
   "metadata": {
    "collapsed": false
   },
   "outputs": [
    {
     "data": {
      "image/png": "[encoded data removed]",
      "text/plain": [
       "<Figure size 432x288 with 1 Axes>"
      ]
     },
     "metadata": {
      "needs_background": "light"
     },
     "output_type": "display_data"
    }
   ],
   "source": [
    "its = d.getitstat()\n",
    "plot.plot(its.ObjFun, xlbl='Iterations', ylbl='Functional')"
   ]
  }
 ],
 "metadata": {
  "language_info": {
   "codemirror_mode": {
    "name": "ipython",
    "version": 3
   },
   "file_extension": ".py",
   "mimetype": "text/x-python",
   "name": "python",
   "nbconvert_exporter": "python",
   "pygments_lexer": "ipython3",
   "version": "3.7.6"
  }
 },
 "nbformat": 4,
 "nbformat_minor": 4
}
